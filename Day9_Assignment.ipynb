{
  "cells": [
    {
      "cell_type": "code",
      "execution_count": 1,
      "metadata": {
        "trusted": true
      },
      "outputs": [
        {
          "ename": "ValueError",
          "evalue": "invalid literal for int() with base 10: ''",
          "output_type": "error",
          "traceback": [
            "\u001b[1;31m---------------------------------------------------------------------------\u001b[0m",
            "\u001b[1;31mValueError\u001b[0m                                Traceback (most recent call last)",
            "\u001b[1;32mc:\\DBDA\\Assignment\\python Assignment\\Day9_Assignment.ipynb Cell 1\u001b[0m line \u001b[0;36m9\n\u001b[0;32m      <a href='vscode-notebook-cell:/c%3A/DBDA/Assignment/python%20Assignment/Day9_Assignment.ipynb#W0sZmlsZQ%3D%3D?line=6'>7</a>\u001b[0m marks\u001b[39m=\u001b[39m[]\n\u001b[0;32m      <a href='vscode-notebook-cell:/c%3A/DBDA/Assignment/python%20Assignment/Day9_Assignment.ipynb#W0sZmlsZQ%3D%3D?line=7'>8</a>\u001b[0m \u001b[39mfor\u001b[39;00m i \u001b[39min\u001b[39;00m \u001b[39mrange\u001b[39m(\u001b[39m0\u001b[39m,\u001b[39m5\u001b[39m):\n\u001b[1;32m----> <a href='vscode-notebook-cell:/c%3A/DBDA/Assignment/python%20Assignment/Day9_Assignment.ipynb#W0sZmlsZQ%3D%3D?line=8'>9</a>\u001b[0m     marks1\u001b[39m=\u001b[39m\u001b[39mint\u001b[39;49m(\u001b[39minput\u001b[39;49m(\u001b[39m\"\u001b[39;49m\u001b[39mEnter a marks\u001b[39;49m\u001b[39m\"\u001b[39;49m))\n\u001b[0;32m     <a href='vscode-notebook-cell:/c%3A/DBDA/Assignment/python%20Assignment/Day9_Assignment.ipynb#W0sZmlsZQ%3D%3D?line=9'>10</a>\u001b[0m     marks\u001b[39m.\u001b[39mappend(marks1)\n\u001b[0;32m     <a href='vscode-notebook-cell:/c%3A/DBDA/Assignment/python%20Assignment/Day9_Assignment.ipynb#W0sZmlsZQ%3D%3D?line=10'>11</a>\u001b[0m \u001b[39mprint\u001b[39m(marks)\n",
            "\u001b[1;31mValueError\u001b[0m: invalid literal for int() with base 10: ''"
          ]
        }
      ],
      "source": [
        "'''\n",
        "1) store marks of 5 subjects\n",
        "\there use marks as actual data and subject names as indexes.\n",
        "accept both marks and subjects from the user.\n",
        "'''\n",
        "import pandas as py\n",
        "marks=[]\n",
        "for i in range(0,5):\n",
        "    marks1=int(input(\"Enter a marks\"))\n",
        "    marks.append(marks1)\n",
        "print(marks)\n",
        "s_name=[]\n",
        "for j in range(0,5):\n",
        "    name=input(\"Enter a student name\")\n",
        "    s_name.append(name)\n",
        "print(s_name)\n",
        "student=py.Series(marks,index=s_name)\n",
        "print(student)\n",
        "\n"
      ]
    },
    {
      "cell_type": "code",
      "execution_count": null,
      "metadata": {
        "trusted": true
      },
      "outputs": [],
      "source": [
        "'''\n",
        "2) create dictionary to store player name and runs scored of at least 5 players. Display it. Now convert this dictionary ‌into Series object and print it.\n",
        "'''import pandas as py\n",
        "mydict={\"virat\":90,\"rohit\":120,\"rahul\":40,\"dhoni\":100,\"suryakumar\":75}\n",
        "print(mydict)\n",
        "series_obj=py.Series(mydict)\n",
        "print(series_obj)\n",
        "\n",
        "import pandas as py\n",
        "mydict={\"virat\":90,\"rohit\":120,\"rahul\":40,\"dhoni\":100,\"suryakumar\":75}\n",
        "print(mydict)\n",
        "series_obj=py.Series(mydict)\n",
        "print(series_obj)\n"
      ]
    },
    {
      "cell_type": "code",
      "execution_count": null,
      "metadata": {},
      "outputs": [],
      "source": [
        "'''\n",
        "3) accept 10 values and store them in the Series. Now perform following operations:\n",
        "\n",
        "a) display the entire Series\n",
        "b) extract 3rd element\n",
        "c) extract elements from 4 to 7\n",
        "d) extract elements from fourth last till the last element\n",
        "e) extract first 3 elements\n",
        "f) extract elements from the 5th position\n",
        "'''\n",
        "\n",
        "import pandas as py\n",
        "mylist=[]\n",
        "for i in range(0,10):\n",
        "    value=int(input(\"Enter a number\"))\n",
        "    mylist.append(value)\n",
        "print(mylist)\n",
        "print(\"converting my list to series\")\n",
        "series1=py.Series(mylist)\n",
        "print(series1)\n",
        "print(\"\\n\")\n",
        "print(series1[0:])#printing entire series\n",
        "print(\"\\n\")\n",
        "print(series1[3])\n",
        "print(\"\\n\")\n",
        "print(series1[4:8])\n",
        "print(\"\\n\")\n",
        "print(series1[-4:])\n",
        "print(\"\\n\")\n",
        "print(series1[0:3])\n",
        "print(\"\\n\")\n",
        "print(series1[5])\n",
        "\n",
        "\n"
      ]
    },
    {
      "cell_type": "code",
      "execution_count": 1,
      "metadata": {
        "trusted": true
      },
      "outputs": [
        {
          "ename": "IndentationError",
          "evalue": "unexpected indent (526452087.py, line 9)",
          "output_type": "error",
          "traceback": [
            "\u001b[1;36m  Cell \u001b[1;32mIn[1], line 9\u001b[1;36m\u001b[0m\n\u001b[1;33m    from pandas import *\u001b[0m\n\u001b[1;37m    ^\u001b[0m\n\u001b[1;31mIndentationError\u001b[0m\u001b[1;31m:\u001b[0m unexpected indent\n"
          ]
        }
      ],
      "source": [
        "'''\n",
        "4) accept 5 values in a Series and perform the following operations:\n",
        "\ta) display their sum\n",
        "\tb) add the value accepted from the user\n",
        "\tc) subtract the value accepted from the user\n",
        "\td) multiply the value accepted from the user\n",
        "\te) add the value accepted from the user\n",
        " '''\n",
        " from pandas import *\n",
        "list=[]\n",
        "for i in range(0,5):\n",
        "    value=int(input(\"Enter a value to insert\"))\n",
        "    list.append(value)\n",
        "print(list)\n",
        "series1=Series(list)\n",
        "print(series1)\n",
        "print(\"\\n\")\n",
        "print(series1.sum())\n",
        "number=int(input(\"Ente a number\"))\n",
        "print(series1.add(number))\n",
        "print(\"\\n\")\n",
        "print(series1.subtract(number))\n",
        "print(\"\\n\")\n",
        "print(series1.mul(number))\n",
        "print(\"\\n\")\n",
        "print(series1.divide(number))\n"
      ]
    },
    {
      "cell_type": "code",
      "execution_count": null,
      "metadata": {},
      "outputs": [],
      "source": [
        "'''\n",
        "5) accept 5 names,designations and salaries and display them with DataFrame.\n",
        "'''\n",
        "from pandas import *\n",
        "names=[]\n",
        "salaries=[]\n",
        "designations=[]\n",
        "for i in range(0,5):\n",
        "    n=input(\"enter a name\")\n",
        "    s=int(input(\"enter a salary\"))\n",
        "    d=input(\"Enter a position\")\n",
        "    names.append(n)\n",
        "    salaries.append(s)\n",
        "    designations.append(d)\n",
        "data={\"Name\":names,\n",
        "      \"Salaries\":salaries,\n",
        "      \"Designations\":designations\n",
        "}\n",
        "df=DataFrame(data)\n",
        "print(df)\n"
      ]
    },
    {
      "cell_type": "code",
      "execution_count": 2,
      "metadata": {},
      "outputs": [
        {
          "name": "stdout",
          "output_type": "stream",
          "text": [
            "              bookname  Unnamed: 1           author  Unnamed: 3\n",
            "0            alchemist         NaN   pauelo chohelo         NaN\n",
            "1   rich dad poor dad          NaN  robert kiyosaki         NaN\n",
            "2  pyschology of money         NaN    morgan housel         NaN\n"
          ]
        }
      ],
      "source": [
        "\n",
        "#6) create a csv file (with whatever columns and rows you want) manually and then read using pandas.\n",
        "import pandas as pd\n",
        "df=pd.read_csv(\"C:/DBDA/python/Day_9/Day_9/Pandas/Examples/Bookname.csv\")\n",
        "print(df)"
      ]
    },
    {
      "cell_type": "code",
      "execution_count": 3,
      "metadata": {
        "trusted": true
      },
      "outputs": [
        {
          "name": "stdout",
          "output_type": "stream",
          "text": [
            "{'Name': ['dhoni', 'virat', 'rohit', 'rahul'], 'Age': [38, 27, 33, 29], 'Address': ['ranchi', 'delhi', 'mumbai', 'tamilnadu']}\n",
            "    Name  Age    Address\n",
            "0  dhoni   38     ranchi\n",
            "1  virat   27      delhi\n",
            "2  rohit   33     mumbai\n",
            "3  rahul   29  tamilnadu\n",
            "{'Name': ['gill', 'pandya', 'samson', 'suryakumar'], 'Age': [35, 28, 31, 34], 'Address': ['delhi', 'rajkot', 'kerla', 'mumbai']}\n",
            "         Name  Age Address\n",
            "0        gill   35   delhi\n",
            "1      pandya   28  rajkot\n",
            "2      samson   31   kerla\n",
            "3  suryakumar   34  mumbai\n"
          ]
        }
      ],
      "source": [
        "'''\n",
        "7) create \"Vita.xlsx\" using pandas. In this Excel file you have to create 2 sheets \"DBDA\", and \"DAC\". \n",
        "in each sheet you have to write name,address and age of all the team leaders.\n",
        "make sure Excel file gets created successfully.\n",
        "'''\n",
        "from pandas import *\n",
        "name=[\"dhoni\",\"virat\",\"rohit\",\"rahul\"]\n",
        "age=[38,27,33,29]\n",
        "address=[\"ranchi\",\"delhi\",\"mumbai\",\"tamilnadu\"]\n",
        "mydict1={\"Name\":name,\n",
        "         \"Age\": age,\n",
        "         \"Address\": address\n",
        "         }\n",
        "print(mydict1)\n",
        "name=[\"gill\",\"pandya\",\"samson\",\"suryakumar\"]\n",
        "age=[35,28,31,34]\n",
        "df=DataFrame(mydict1)\n",
        "print(df)\n",
        "address=[\"delhi\",\"rajkot\",\"kerla\",\"mumbai\"]\n",
        "mydict2={\"Name\":name,\n",
        "         \"Age\": age,\n",
        "         \"Address\": address\n",
        "         }\n",
        "print(mydict2)\n",
        "df1=DataFrame(mydict2)\n",
        "print(df1)\n",
        "df.to_excel(\"Vita.xlsx\",sheet_name=\"DBDA\",index=False)\n",
        "df1.to_excel(\"Vita.xlsx\",sheet_name=\"DAC\",index=False)"
      ]
    },
    {
      "cell_type": "code",
      "execution_count": null,
      "metadata": {},
      "outputs": [],
      "source": []
    }
  ],
  "metadata": {
    "kernelspec": {
      "display_name": "Python 3",
      "language": "python",
      "name": "python3"
    },
    "language_info": {
      "codemirror_mode": {
        "name": "ipython",
        "version": 3
      },
      "file_extension": ".py",
      "mimetype": "text/x-python",
      "name": "python",
      "nbconvert_exporter": "python",
      "pygments_lexer": "ipython3",
      "version": "3.8.2"
    }
  },
  "nbformat": 4,
  "nbformat_minor": 4
}
